{
 "cells": [
  {
   "cell_type": "code",
   "execution_count": 2,
   "metadata": {},
   "outputs": [],
   "source": [
    "import dns.resolver"
   ]
  },
  {
   "cell_type": "code",
   "execution_count": 3,
   "metadata": {},
   "outputs": [],
   "source": [
    "def execute_scan(record):\n",
    "    IP_TYPES = ['AAAA', 'A']\n",
    "    NAME_SERVER_TYPES = ['NS']\n",
    "    ALIAS_TYPES = ['CNAME']\n",
    "    RECORD_TYPES = IP_TYPES + NAME_SERVER_TYPES\n",
    "    NAME_TYPES = NAME_SERVER_TYPES + ALIAS_TYPES\n",
    "\n",
    "    relationships = []\n",
    "    assets = []\n",
    "    \n",
    "    has_cname = False\n",
    "    for record_type in NAME_TYPES:\n",
    "        try:\n",
    "            answers = dns.resolver.resolve(record, record_type)\n",
    "            for answer in answers:\n",
    "                if record_type in ALIAS_TYPES:\n",
    "                    assets.append({ 'type' : 'DNS', 'response' : answer.to_text() })\n",
    "                    has_cname = True\n",
    "                relationships.append({ \n",
    "                    'source': record, \n",
    "                    'target': answer.to_text(), \n",
    "                    'relationship': record_type\n",
    "                    })\n",
    "        except:\n",
    "            pass\n",
    "\n",
    "    if has_cname:\n",
    "        return None, relationships, assets\n",
    "            \n",
    "    for record_type in RECORD_TYPES:\n",
    "        try:\n",
    "            answers = dns.resolver.resolve(record, record_type)\n",
    "            for answer in answers:\n",
    "                if record_type in NAME_TYPES:\n",
    "                    assets.append({ 'type' : 'DNS', 'response' : answer.to_text() })\n",
    "                if record_type in IP_TYPES:\n",
    "                    assets.append({ 'type' : 'IP', 'response' : answer.to_text() })\n",
    "                relationships.append({ \n",
    "                    'source': record, \n",
    "                    'target': answer.to_text(), \n",
    "                    'relationship': record_type\n",
    "                    })\n",
    "        except:\n",
    "            pass\n",
    "    return None, relationships, assets"
   ]
  },
  {
   "cell_type": "code",
   "execution_count": 10,
   "metadata": {},
   "outputs": [
    {
     "name": "stdout",
     "output_type": "stream",
     "text": [
      "(None, [{'source': 'cname.branleys.com', 'target': 'www.lloydsbank.com.', 'relationship': 'CNAME'}], [{'type': 'DNS', 'response': 'www.lloydsbank.com.'}])\n"
     ]
    }
   ],
   "source": [
    "print(execute_scan('cname.branleys.com'))"
   ]
  },
  {
   "cell_type": "code",
   "execution_count": 12,
   "metadata": {},
   "outputs": [],
   "source": [
    "results = execute_scan('cname.branleys.com')"
   ]
  },
  {
   "cell_type": "code",
   "execution_count": 20,
   "metadata": {},
   "outputs": [
    {
     "name": "stdout",
     "output_type": "stream",
     "text": [
      "CNAME\n"
     ]
    }
   ],
   "source": [
    "print(results[1][0]['relationship'])"
   ]
  },
  {
   "cell_type": "code",
   "execution_count": null,
   "metadata": {},
   "outputs": [],
   "source": []
  }
 ],
 "metadata": {
  "kernelspec": {
   "display_name": "Python 3.7.4 64-bit",
   "language": "python",
   "name": "python37464bit410f88902e324588be4871d26cbde9e6"
  },
  "language_info": {
   "codemirror_mode": {
    "name": "ipython",
    "version": 3
   },
   "file_extension": ".py",
   "mimetype": "text/x-python",
   "name": "python",
   "nbconvert_exporter": "python",
   "pygments_lexer": "ipython3",
   "version": "3.7.4"
  }
 },
 "nbformat": 4,
 "nbformat_minor": 2
}
