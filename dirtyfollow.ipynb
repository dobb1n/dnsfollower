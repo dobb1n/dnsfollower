{
 "cells": [
  {
   "cell_type": "code",
   "execution_count": 71,
   "metadata": {},
   "outputs": [
    {
     "name": "stdout",
     "output_type": "stream",
     "text": [
      "\u001b[33mDEPRECATION: Configuring installation scheme with distutils config files is deprecated and will no longer work in the near future. If you are using a Homebrew or Linuxbrew Python, please see discussion at https://github.com/Homebrew/homebrew-core/issues/76621\u001b[0m\n",
      "Requirement already satisfied: dnspython in /usr/local/lib/python3.9/site-packages (from -r requirements.txt (line 1)) (2.2.1)\n",
      "Collecting pandas\n",
      "\u001b[33m  WARNING: Retrying (Retry(total=4, connect=None, read=None, redirect=None, status=None)) after connection broken by 'ReadTimeoutError(\"HTTPSConnectionPool(host='files.pythonhosted.org', port=443): Read timed out. (read timeout=15)\")': /packages/ad/65/870f1e6c916528430153b99e2bcaca5e6938c2ac884e46b2577c011cb855/pandas-1.4.1-cp39-cp39-macosx_10_9_x86_64.whl\u001b[0m\n",
      "\u001b[33m  WARNING: Retrying (Retry(total=3, connect=None, read=None, redirect=None, status=None)) after connection broken by 'ReadTimeoutError(\"HTTPSConnectionPool(host='files.pythonhosted.org', port=443): Read timed out. (read timeout=15)\")': /packages/ad/65/870f1e6c916528430153b99e2bcaca5e6938c2ac884e46b2577c011cb855/pandas-1.4.1-cp39-cp39-macosx_10_9_x86_64.whl\u001b[0m\n",
      "  Downloading pandas-1.4.1-cp39-cp39-macosx_10_9_x86_64.whl (11.5 MB)\n",
      "     |████████████████████████████████| 11.5 MB 585 kB/s            \n",
      "\u001b[?25hRequirement already satisfied: pytz>=2020.1 in /usr/local/lib/python3.9/site-packages (from pandas->-r requirements.txt (line 2)) (2021.1)\n",
      "Requirement already satisfied: python-dateutil>=2.8.1 in /usr/local/lib/python3.9/site-packages (from pandas->-r requirements.txt (line 2)) (2.8.1)\n",
      "Collecting numpy>=1.18.5\n",
      "\u001b[33m  WARNING: Retrying (Retry(total=4, connect=None, read=None, redirect=None, status=None)) after connection broken by 'ReadTimeoutError(\"HTTPSConnectionPool(host='files.pythonhosted.org', port=443): Read timed out. (read timeout=15)\")': /packages/58/55/6fef1ef16124066b96d5b5cb107c8e0af20b2007b79ba8f7e52ca2e1b2b7/numpy-1.22.3-cp39-cp39-macosx_10_14_x86_64.whl\u001b[0m\n",
      "\u001b[33m  WARNING: Retrying (Retry(total=3, connect=None, read=None, redirect=None, status=None)) after connection broken by 'ReadTimeoutError(\"HTTPSConnectionPool(host='files.pythonhosted.org', port=443): Read timed out. (read timeout=15)\")': /packages/58/55/6fef1ef16124066b96d5b5cb107c8e0af20b2007b79ba8f7e52ca2e1b2b7/numpy-1.22.3-cp39-cp39-macosx_10_14_x86_64.whl\u001b[0m\n",
      "\u001b[33m  WARNING: Retrying (Retry(total=2, connect=None, read=None, redirect=None, status=None)) after connection broken by 'ReadTimeoutError(\"HTTPSConnectionPool(host='files.pythonhosted.org', port=443): Read timed out. (read timeout=15)\")': /packages/58/55/6fef1ef16124066b96d5b5cb107c8e0af20b2007b79ba8f7e52ca2e1b2b7/numpy-1.22.3-cp39-cp39-macosx_10_14_x86_64.whl\u001b[0m\n",
      "\u001b[33m  WARNING: Retrying (Retry(total=1, connect=None, read=None, redirect=None, status=None)) after connection broken by 'ConnectTimeoutError(<pip._vendor.urllib3.connection.HTTPSConnection object at 0x1051f6490>, 'Connection to files.pythonhosted.org timed out. (connect timeout=15)')': /packages/58/55/6fef1ef16124066b96d5b5cb107c8e0af20b2007b79ba8f7e52ca2e1b2b7/numpy-1.22.3-cp39-cp39-macosx_10_14_x86_64.whl\u001b[0m\n",
      "\u001b[33m  WARNING: Retrying (Retry(total=0, connect=None, read=None, redirect=None, status=None)) after connection broken by 'ReadTimeoutError(\"HTTPSConnectionPool(host='files.pythonhosted.org', port=443): Read timed out. (read timeout=15)\")': /packages/58/55/6fef1ef16124066b96d5b5cb107c8e0af20b2007b79ba8f7e52ca2e1b2b7/numpy-1.22.3-cp39-cp39-macosx_10_14_x86_64.whl\u001b[0m\n",
      "\u001b[31mERROR: Could not install packages due to an OSError: HTTPSConnectionPool(host='files.pythonhosted.org', port=443): Max retries exceeded with url: /packages/58/55/6fef1ef16124066b96d5b5cb107c8e0af20b2007b79ba8f7e52ca2e1b2b7/numpy-1.22.3-cp39-cp39-macosx_10_14_x86_64.whl (Caused by ReadTimeoutError(\"HTTPSConnectionPool(host='files.pythonhosted.org', port=443): Read timed out. (read timeout=15)\"))\n",
      "\u001b[0m\n",
      "\u001b[33mWARNING: You are using pip version 21.3.1; however, version 22.0.4 is available.\n",
      "You should consider upgrading via the '/usr/local/opt/python@3.9/bin/python3.9 -m pip install --upgrade pip' command.\u001b[0m\n",
      "Note: you may need to restart the kernel to use updated packages.\n"
     ]
    }
   ],
   "source": [
    "%pip install -r requirements.txt"
   ]
  },
  {
   "cell_type": "code",
   "execution_count": 5,
   "metadata": {},
   "outputs": [],
   "source": [
    "import dns.resolver\n",
    "import socket\n",
    "import ipaddress\n",
    "\n",
    "outresults = {}\n",
    "\n",
    "def execute_scan(record):\n",
    "    IP_TYPES = ['AAAA', 'A']\n",
    "    NAME_SERVER_TYPES = ['NS']\n",
    "    ALIAS_TYPES = ['CNAME']\n",
    "    ERROR_TYPES = ['NXDOMAIN']\n",
    "    RECORD_TYPES = IP_TYPES + NAME_SERVER_TYPES #[aaaa, a, ns]\n",
    "    NAME_TYPES = NAME_SERVER_TYPES + ALIAS_TYPES #[NS, CNAME]\n",
    "    \n",
    "    relationships = []\n",
    "    assets = []\n",
    "\n",
    "    has_cname = False\n",
    "    \n",
    "    for record_type in NAME_TYPES:\n",
    "        try:\n",
    "            print('looking for a', record_type, 'in', record)\n",
    "            answers = dns.resolver.resolve(record, record_type)\n",
    "            for answer in answers:\n",
    "                if record_type in ALIAS_TYPES:\n",
    "                    assets.append({ 'type' : 'DNS', 'response' : answer.to_text() })\n",
    "                    print('found a', record_type)\n",
    "                    has_cname = True\n",
    "                    relationships.append({'source': record,'target': answer.to_text(),'relationship': record_type})\n",
    "                else:\n",
    "                    print(answer.to_text())\n",
    "        except:\n",
    "            print(\"No\", record_type, \"found\")\n",
    "            pass\n",
    "        \n",
    "    if has_cname:\n",
    "        return None, relationships, assets\n",
    "    \n",
    "    for record_type in RECORD_TYPES:\n",
    "        try:\n",
    "            print('looking for a', record_type, 'in', record)\n",
    "            answers = dns.resolver.resolve(record, record_type)\n",
    "            for answer in answers:\n",
    "                if record_type in NAME_TYPES:\n",
    "                    assets.append({ 'type' : 'DNS', 'response' : answer.to_text() })\n",
    "                    print('found a', record_type)\n",
    "                if record_type in IP_TYPES:\n",
    "                    assets.append({ 'type' : 'IP', 'response' : answer.to_text() })\n",
    "                    print('found a', record_type)\n",
    "                    relationships.append({'source': record,'target': answer.to_text(),'relationship': record_type})\n",
    "\n",
    "        except:\n",
    "            print(\"No\", record_type, \"found\")\n",
    "            pass\n",
    "            \n",
    "    return None, relationships, assets"
   ]
  },
  {
   "cell_type": "code",
   "execution_count": 6,
   "metadata": {},
   "outputs": [
    {
     "name": "stdout",
     "output_type": "stream",
     "text": [
      "looking for a NS in cname.branleys.com\n",
      "No NS found\n",
      "looking for a CNAME in cname.branleys.com\n",
      "found a CNAME\n",
      "(None, [{'source': 'cname.branleys.com', 'target': 'www.lloydsbank.com.', 'relationship': 'CNAME'}], [{'type': 'DNS', 'response': 'www.lloydsbank.com.'}])\n"
     ]
    }
   ],
   "source": [
    "testsubject = 'cname.branleys.com'\n",
    "print(execute_scan(testsubject))  "
   ]
  },
  {
   "cell_type": "code",
   "execution_count": 7,
   "metadata": {},
   "outputs": [],
   "source": [
    "\n",
    "def loopthrough(testsubject):\n",
    "    result = execute_scan(testsubject)\n",
    "    recordtype = result[1]\n",
    "    \n",
    "    for record in recordtype:\n",
    "        if record['relationship'] == 'CNAME':\n",
    "            print(record['source'], 'is cnamed to', record['target'])\n",
    "        else:\n",
    "            print(\"found\", record['relationship'], \"record for\", record['source'], \"-\", record['target'])\n",
    "            #now try to see if it exists\n",
    "            makesocket(record['target'], record['source'])\n",
    "\n",
    "def makesocket(testsubject):\n",
    "    HOST = testsubject\n",
    "    PORT = 80\n",
    "    \n",
    "    #check if its one of ours\n",
    "    if isitalloydsip(HOST):\n",
    "        print(\"its a lloyds IP no need to check for upness\")\n",
    "    else:\n",
    "        print(\"attempting socket connection to\", HOST, \"on\", PORT)\n",
    "    \n",
    "        with socket.socket(socket.AF_INET, socket.SOCK_STREAM) as s:\n",
    "            try:\n",
    "                s.connect((HOST, PORT))\n",
    "                print(\"connected\", HOST, PORT)\n",
    "            except: \n",
    "                print(\"couldnt connect on\", PORT, \"trying 443\")\n",
    "                PORT = 443\n",
    "                try:\n",
    "                    s.connect((HOST, PORT))\n",
    "                    print(\"connected\", HOST, PORT)\n",
    "                except:\n",
    "                    print(\"couldnt connect on\", PORT, \"possible candidate for takeover\")\n",
    "                return \n",
    "        #request = \"GET / HTTP/1.1\\r\\nHost:%s\\r\\n\\r\\n\" % HOST\n",
    "        #s.send(request.encode())\n",
    "        #data = s.recv(4096)\n",
    "    \n",
    "def isitalloydsip(thingip):\n",
    "    addresstocheck = ipaddress.ip_address(thingip)\n",
    "    lbgmainprefix = ipaddress.ip_network('141.92.0.0/16')\n",
    "    \n",
    "    isitoneofours = addresstocheck in lbgmainprefix\n",
    "    return isitoneofours\n",
    "\n",
    "def whatsortofrecordisit(target):\n",
    "    answer = dns.resolver.resolve(target)\n",
    "    rdt = dns.rdatatype.to_text(answer.rdtype)\n",
    "    return rdt"
   ]
  },
  {
   "cell_type": "code",
   "execution_count": 21,
   "metadata": {},
   "outputs": [],
   "source": [
    "def dns_follower(target, rtype):\n",
    "    try:\n",
    "        answers = dns.resolver.resolve(target, rtype)\n",
    "        for rdata in answers:\n",
    "            result = [target, rtype, rdata]\n",
    "            return result\n",
    "    except:\n",
    "        result = [target, rtype, \"NULL\"]\n",
    "        return result"
   ]
  },
  {
   "cell_type": "code",
   "execution_count": null,
   "metadata": {},
   "outputs": [],
   "source": [
    "import pandas as pd\n",
    "\n",
    "inputfile = open('targetlist.txt','r')\n",
    "rtypes = ['CNAME', 'A', 'NS']\n",
    "inlist = []\n",
    "df = pd.DataFrame(inlist,\n",
    "                  columns = ['targetName' , 'recordType', 'Answer'])\n",
    "\n",
    "for target in inputfile:\n",
    "    for rtype in rtypes:\n",
    "        df.loc[len(df)] = dns_follower(target.strip(), rtype)\n",
    "        "
   ]
  },
  {
   "cell_type": "code",
   "execution_count": 20,
   "metadata": {},
   "outputs": [],
   "source": [
    "df.to_csv('outputlist.csv')"
   ]
  },
  {
   "cell_type": "code",
   "execution_count": 12,
   "metadata": {},
   "outputs": [
    {
     "data": {
      "text/html": [
       "<div>\n",
       "<style scoped>\n",
       "    .dataframe tbody tr th:only-of-type {\n",
       "        vertical-align: middle;\n",
       "    }\n",
       "\n",
       "    .dataframe tbody tr th {\n",
       "        vertical-align: top;\n",
       "    }\n",
       "\n",
       "    .dataframe thead th {\n",
       "        text-align: right;\n",
       "    }\n",
       "</style>\n",
       "<table border=\"1\" class=\"dataframe\">\n",
       "  <thead>\n",
       "    <tr style=\"text-align: right;\">\n",
       "      <th></th>\n",
       "      <th>targetName</th>\n",
       "      <th>recordType</th>\n",
       "      <th>Answer</th>\n",
       "    </tr>\n",
       "  </thead>\n",
       "  <tbody>\n",
       "    <tr>\n",
       "      <th>1</th>\n",
       "      <td>smtp1.lloydstsb.com.cn</td>\n",
       "      <td>A</td>\n",
       "      <td>67.219.247.111</td>\n",
       "    </tr>\n",
       "    <tr>\n",
       "      <th>3</th>\n",
       "      <td>www.clericalmedical.at</td>\n",
       "      <td>A</td>\n",
       "      <td>165.160.13.20</td>\n",
       "    </tr>\n",
       "    <tr>\n",
       "      <th>5</th>\n",
       "      <td>www.evolvebank.biz</td>\n",
       "      <td>A</td>\n",
       "      <td>141.92.96.30</td>\n",
       "    </tr>\n",
       "    <tr>\n",
       "      <th>7</th>\n",
       "      <td>www.goldfish.biz</td>\n",
       "      <td>A</td>\n",
       "      <td>37.9.175.20</td>\n",
       "    </tr>\n",
       "    <tr>\n",
       "      <th>9</th>\n",
       "      <td>www.lloydsbankinggroup.biz</td>\n",
       "      <td>A</td>\n",
       "      <td>141.92.90.196</td>\n",
       "    </tr>\n",
       "    <tr>\n",
       "      <th>11</th>\n",
       "      <td>www.lloydstsbcorporatemarkets.biz</td>\n",
       "      <td>A</td>\n",
       "      <td>141.92.96.30</td>\n",
       "    </tr>\n",
       "    <tr>\n",
       "      <th>13</th>\n",
       "      <td>cname.branleys.com</td>\n",
       "      <td>A</td>\n",
       "      <td>23.55.6.105</td>\n",
       "    </tr>\n",
       "  </tbody>\n",
       "</table>\n",
       "</div>"
      ],
      "text/plain": [
       "                           targetName recordType          Answer\n",
       "1              smtp1.lloydstsb.com.cn          A  67.219.247.111\n",
       "3              www.clericalmedical.at          A   165.160.13.20\n",
       "5                  www.evolvebank.biz          A    141.92.96.30\n",
       "7                    www.goldfish.biz          A     37.9.175.20\n",
       "9          www.lloydsbankinggroup.biz          A   141.92.90.196\n",
       "11  www.lloydstsbcorporatemarkets.biz          A    141.92.96.30\n",
       "13                 cname.branleys.com          A     23.55.6.105"
      ]
     },
     "execution_count": 12,
     "metadata": {},
     "output_type": "execute_result"
    }
   ],
   "source": [
    "a_records = df['recordType'] == 'A'\n",
    "\n",
    "df2 = df[a_records]\n",
    "df2"
   ]
  },
  {
   "cell_type": "code",
   "execution_count": 13,
   "metadata": {},
   "outputs": [
    {
     "name": "stdout",
     "output_type": "stream",
     "text": [
      "False\n"
     ]
    }
   ],
   "source": [
    "print(isitalloydsip('67.219.247.111'))"
   ]
  },
  {
   "cell_type": "code",
   "execution_count": 57,
   "metadata": {},
   "outputs": [
    {
     "name": "stdout",
     "output_type": "stream",
     "text": [
      "10 aspmx.l.google.com.\n",
      "20 alt1.aspmx.l.google.com.\n",
      "20 alt2.aspmx.l.google.com.\n",
      "30 aspmx2.googlemail.com.\n",
      "30 aspmx3.googlemail.com.\n"
     ]
    }
   ],
   "source": [
    "for answer in answers:\n",
    "    print(answer)"
   ]
  },
  {
   "cell_type": "code",
   "execution_count": null,
   "metadata": {},
   "outputs": [],
   "source": []
  }
 ],
 "metadata": {
  "kernelspec": {
   "display_name": "Python 3",
   "language": "python",
   "name": "python3"
  },
  "language_info": {
   "codemirror_mode": {
    "name": "ipython",
    "version": 3
   },
   "file_extension": ".py",
   "mimetype": "text/x-python",
   "name": "python",
   "nbconvert_exporter": "python",
   "pygments_lexer": "ipython3",
   "version": "3.9.10"
  }
 },
 "nbformat": 4,
 "nbformat_minor": 4
}
